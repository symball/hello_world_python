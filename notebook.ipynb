{
 "cells": [
  {
   "cell_type": "code",
   "execution_count": 2,
   "id": "2ab62630-45d4-4d10-9ce7-db4beaa44c79",
   "metadata": {},
   "outputs": [
    {
     "name": "stdout",
     "output_type": "stream",
     "text": [
      "Hello from python-hello-world!\n",
      "x: 1  y: 1\n",
      "x: 2  y: 4\n",
      "x: 6  y: 8\n",
      "x: 9  y: 10\n",
      "x: 1  y: 1\n",
      "x: 2  y: 4\n",
      "x: 6  y: 8\n",
      "x: 9  y: 10\n",
      "Bye from python-hello-world!\n"
     ]
    }
   ],
   "source": [
    "import os\n",
    "from sqlalchemy import create_engine\n",
    "from sqlalchemy import text\n",
    "\n",
    "print(\"Hello from python-hello-world!\")\n",
    "dbUser = os.environ['MYSQL_USER']\n",
    "dbPass = os.environ['MYSQL_PASS']\n",
    "dbHost = os.environ['MYSQL_HOST']\n",
    "dbSchema = os.environ['MYSQL_SCHEMA']\n",
    "\n",
    "print(f'mysql+pymysql://{dbUser}:{dbPass}@{dbHost}/{dbSchema}?charset=utf8mb4')",
    "engine = create_engine(f'mysql+pymysql://{dbUser}:{dbPass}@{dbHost}/{dbSchema}?charset=utf8mb4')\n",
    "\n",
    "with engine.connect() as conn:\n",
    "    conn.execute(text(\"CREATE TABLE IF NOT EXISTS some_table (x int, y int)\"))\n",
    "    conn.execute(\n",
    "        text(\"INSERT INTO some_table (x, y) VALUES (:x, :y)\"),\n",
    "        [{\"x\": 1, \"y\": 1}, {\"x\": 2, \"y\": 4}, {\"x\": 6, \"y\": 8}, {\"x\": 9, \"y\": 10}],\n",
    "    )\n",
    "    conn.commit()\n",
    "    result = conn.execute(text(\"SELECT x, y FROM some_table\"))\n",
    "    for row in result:\n",
    "        print(f\"x: {row.x}  y: {row.y}\")\n",
    "\n",
    "print(\"Bye from python-hello-world!\")"
   ]
  },
  {
   "cell_type": "code",
   "execution_count": null,
   "id": "4d2e9667-05d4-47a8-9bb3-9c50f0930bf8",
   "metadata": {},
   "outputs": [],
   "source": []
  }
 ],
 "metadata": {
  "kernelspec": {
   "display_name": "Python 3 (ipykernel)",
   "language": "python",
   "name": "python3"
  },
  "language_info": {
   "codemirror_mode": {
    "name": "ipython",
    "version": 3
   },
   "file_extension": ".py",
   "mimetype": "text/x-python",
   "name": "python",
   "nbconvert_exporter": "python",
   "pygments_lexer": "ipython3",
   "version": "3.13.2"
  }
 },
 "nbformat": 4,
 "nbformat_minor": 5
}
